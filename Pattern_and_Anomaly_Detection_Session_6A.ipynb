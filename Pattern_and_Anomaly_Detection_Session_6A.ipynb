{
 "cells": [
  {
   "cell_type": "markdown",
   "metadata": {
    "id": "H2CjOFRP-lsv"
   },
   "source": [
    "Pattern and Anomaly Detection Lab Experiment 6A\n",
    "\n",
    "## ARIMA \n",
    "\n",
    "Reeha Parkar\n",
    "\n",
    "IBM AIML Batch - AIML1\n",
    "\n",
    "BE Electronics \n",
    "\n",
    "**60001180046**"
   ]
  },
  {
   "cell_type": "code",
   "execution_count": null,
   "metadata": {
    "colab": {
     "base_uri": "https://localhost:8080/"
    },
    "id": "Lu8_wr84n-C0",
    "outputId": "ab9ad6b6-f052-497c-b9c7-1b4f8313a21c"
   },
   "outputs": [
    {
     "name": "stdout",
     "output_type": "stream",
     "text": [
      "Collecting pmdarima\n",
      "  Downloading pmdarima-1.8.4-cp37-cp37m-manylinux_2_17_x86_64.manylinux2014_x86_64.manylinux_2_24_x86_64.whl (1.4 MB)\n",
      "\u001b[?25l\r",
      "\u001b[K     |▎                               | 10 kB 15.3 MB/s eta 0:00:01\r",
      "\u001b[K     |▌                               | 20 kB 17.6 MB/s eta 0:00:01\r",
      "\u001b[K     |▊                               | 30 kB 19.2 MB/s eta 0:00:01\r",
      "\u001b[K     |█                               | 40 kB 22.1 MB/s eta 0:00:01\r",
      "\u001b[K     |█▏                              | 51 kB 24.5 MB/s eta 0:00:01\r",
      "\u001b[K     |█▍                              | 61 kB 27.4 MB/s eta 0:00:01\r",
      "\u001b[K     |█▋                              | 71 kB 28.7 MB/s eta 0:00:01\r",
      "\u001b[K     |██                              | 81 kB 30.6 MB/s eta 0:00:01\r",
      "\u001b[K     |██▏                             | 92 kB 32.0 MB/s eta 0:00:01\r",
      "\u001b[K     |██▍                             | 102 kB 28.1 MB/s eta 0:00:01\r",
      "\u001b[K     |██▋                             | 112 kB 28.1 MB/s eta 0:00:01\r",
      "\u001b[K     |██▉                             | 122 kB 28.1 MB/s eta 0:00:01\r",
      "\u001b[K     |███                             | 133 kB 28.1 MB/s eta 0:00:01\r",
      "\u001b[K     |███▎                            | 143 kB 28.1 MB/s eta 0:00:01\r",
      "\u001b[K     |███▌                            | 153 kB 28.1 MB/s eta 0:00:01\r",
      "\u001b[K     |███▉                            | 163 kB 28.1 MB/s eta 0:00:01\r",
      "\u001b[K     |████                            | 174 kB 28.1 MB/s eta 0:00:01\r",
      "\u001b[K     |████▎                           | 184 kB 28.1 MB/s eta 0:00:01\r",
      "\u001b[K     |████▌                           | 194 kB 28.1 MB/s eta 0:00:01\r",
      "\u001b[K     |████▊                           | 204 kB 28.1 MB/s eta 0:00:01\r",
      "\u001b[K     |█████                           | 215 kB 28.1 MB/s eta 0:00:01\r",
      "\u001b[K     |█████▏                          | 225 kB 28.1 MB/s eta 0:00:01\r",
      "\u001b[K     |█████▌                          | 235 kB 28.1 MB/s eta 0:00:01\r",
      "\u001b[K     |█████▊                          | 245 kB 28.1 MB/s eta 0:00:01\r",
      "\u001b[K     |██████                          | 256 kB 28.1 MB/s eta 0:00:01\r",
      "\u001b[K     |██████▏                         | 266 kB 28.1 MB/s eta 0:00:01\r",
      "\u001b[K     |██████▍                         | 276 kB 28.1 MB/s eta 0:00:01\r",
      "\u001b[K     |██████▋                         | 286 kB 28.1 MB/s eta 0:00:01\r",
      "\u001b[K     |██████▉                         | 296 kB 28.1 MB/s eta 0:00:01\r",
      "\u001b[K     |███████                         | 307 kB 28.1 MB/s eta 0:00:01\r",
      "\u001b[K     |███████▍                        | 317 kB 28.1 MB/s eta 0:00:01\r",
      "\u001b[K     |███████▋                        | 327 kB 28.1 MB/s eta 0:00:01\r",
      "\u001b[K     |███████▉                        | 337 kB 28.1 MB/s eta 0:00:01\r",
      "\u001b[K     |████████                        | 348 kB 28.1 MB/s eta 0:00:01\r",
      "\u001b[K     |████████▎                       | 358 kB 28.1 MB/s eta 0:00:01\r",
      "\u001b[K     |████████▌                       | 368 kB 28.1 MB/s eta 0:00:01\r",
      "\u001b[K     |████████▊                       | 378 kB 28.1 MB/s eta 0:00:01\r",
      "\u001b[K     |█████████                       | 389 kB 28.1 MB/s eta 0:00:01\r",
      "\u001b[K     |█████████▎                      | 399 kB 28.1 MB/s eta 0:00:01\r",
      "\u001b[K     |█████████▌                      | 409 kB 28.1 MB/s eta 0:00:01\r",
      "\u001b[K     |█████████▊                      | 419 kB 28.1 MB/s eta 0:00:01\r",
      "\u001b[K     |██████████                      | 430 kB 28.1 MB/s eta 0:00:01\r",
      "\u001b[K     |██████████▏                     | 440 kB 28.1 MB/s eta 0:00:01\r",
      "\u001b[K     |██████████▍                     | 450 kB 28.1 MB/s eta 0:00:01\r",
      "\u001b[K     |██████████▋                     | 460 kB 28.1 MB/s eta 0:00:01\r",
      "\u001b[K     |███████████                     | 471 kB 28.1 MB/s eta 0:00:01\r",
      "\u001b[K     |███████████▏                    | 481 kB 28.1 MB/s eta 0:00:01\r",
      "\u001b[K     |███████████▍                    | 491 kB 28.1 MB/s eta 0:00:01\r",
      "\u001b[K     |███████████▋                    | 501 kB 28.1 MB/s eta 0:00:01\r",
      "\u001b[K     |███████████▉                    | 512 kB 28.1 MB/s eta 0:00:01\r",
      "\u001b[K     |████████████                    | 522 kB 28.1 MB/s eta 0:00:01\r",
      "\u001b[K     |████████████▎                   | 532 kB 28.1 MB/s eta 0:00:01\r",
      "\u001b[K     |████████████▌                   | 542 kB 28.1 MB/s eta 0:00:01\r",
      "\u001b[K     |████████████▉                   | 552 kB 28.1 MB/s eta 0:00:01\r",
      "\u001b[K     |█████████████                   | 563 kB 28.1 MB/s eta 0:00:01\r",
      "\u001b[K     |█████████████▎                  | 573 kB 28.1 MB/s eta 0:00:01\r",
      "\u001b[K     |█████████████▌                  | 583 kB 28.1 MB/s eta 0:00:01\r",
      "\u001b[K     |█████████████▊                  | 593 kB 28.1 MB/s eta 0:00:01\r",
      "\u001b[K     |██████████████                  | 604 kB 28.1 MB/s eta 0:00:01\r",
      "\u001b[K     |██████████████▏                 | 614 kB 28.1 MB/s eta 0:00:01\r",
      "\u001b[K     |██████████████▍                 | 624 kB 28.1 MB/s eta 0:00:01\r",
      "\u001b[K     |██████████████▊                 | 634 kB 28.1 MB/s eta 0:00:01\r",
      "\u001b[K     |███████████████                 | 645 kB 28.1 MB/s eta 0:00:01\r",
      "\u001b[K     |███████████████▏                | 655 kB 28.1 MB/s eta 0:00:01\r",
      "\u001b[K     |███████████████▍                | 665 kB 28.1 MB/s eta 0:00:01\r",
      "\u001b[K     |███████████████▋                | 675 kB 28.1 MB/s eta 0:00:01\r",
      "\u001b[K     |███████████████▉                | 686 kB 28.1 MB/s eta 0:00:01\r",
      "\u001b[K     |████████████████                | 696 kB 28.1 MB/s eta 0:00:01\r",
      "\u001b[K     |████████████████▍               | 706 kB 28.1 MB/s eta 0:00:01\r",
      "\u001b[K     |████████████████▋               | 716 kB 28.1 MB/s eta 0:00:01\r",
      "\u001b[K     |████████████████▉               | 727 kB 28.1 MB/s eta 0:00:01\r",
      "\u001b[K     |█████████████████               | 737 kB 28.1 MB/s eta 0:00:01\r",
      "\u001b[K     |█████████████████▎              | 747 kB 28.1 MB/s eta 0:00:01\r",
      "\u001b[K     |█████████████████▌              | 757 kB 28.1 MB/s eta 0:00:01\r",
      "\u001b[K     |█████████████████▊              | 768 kB 28.1 MB/s eta 0:00:01\r",
      "\u001b[K     |██████████████████              | 778 kB 28.1 MB/s eta 0:00:01\r",
      "\u001b[K     |██████████████████▎             | 788 kB 28.1 MB/s eta 0:00:01\r",
      "\u001b[K     |██████████████████▌             | 798 kB 28.1 MB/s eta 0:00:01\r",
      "\u001b[K     |██████████████████▊             | 808 kB 28.1 MB/s eta 0:00:01\r",
      "\u001b[K     |███████████████████             | 819 kB 28.1 MB/s eta 0:00:01\r",
      "\u001b[K     |███████████████████▏            | 829 kB 28.1 MB/s eta 0:00:01\r",
      "\u001b[K     |███████████████████▍            | 839 kB 28.1 MB/s eta 0:00:01\r",
      "\u001b[K     |███████████████████▋            | 849 kB 28.1 MB/s eta 0:00:01\r",
      "\u001b[K     |███████████████████▉            | 860 kB 28.1 MB/s eta 0:00:01\r",
      "\u001b[K     |████████████████████▏           | 870 kB 28.1 MB/s eta 0:00:01\r",
      "\u001b[K     |████████████████████▍           | 880 kB 28.1 MB/s eta 0:00:01\r",
      "\u001b[K     |████████████████████▋           | 890 kB 28.1 MB/s eta 0:00:01\r",
      "\u001b[K     |████████████████████▉           | 901 kB 28.1 MB/s eta 0:00:01\r",
      "\u001b[K     |█████████████████████           | 911 kB 28.1 MB/s eta 0:00:01\r",
      "\u001b[K     |█████████████████████▎          | 921 kB 28.1 MB/s eta 0:00:01\r",
      "\u001b[K     |█████████████████████▌          | 931 kB 28.1 MB/s eta 0:00:01\r",
      "\u001b[K     |█████████████████████▉          | 942 kB 28.1 MB/s eta 0:00:01\r",
      "\u001b[K     |██████████████████████          | 952 kB 28.1 MB/s eta 0:00:01\r",
      "\u001b[K     |██████████████████████▎         | 962 kB 28.1 MB/s eta 0:00:01\r",
      "\u001b[K     |██████████████████████▌         | 972 kB 28.1 MB/s eta 0:00:01\r",
      "\u001b[K     |██████████████████████▊         | 983 kB 28.1 MB/s eta 0:00:01\r",
      "\u001b[K     |███████████████████████         | 993 kB 28.1 MB/s eta 0:00:01\r",
      "\u001b[K     |███████████████████████▏        | 1.0 MB 28.1 MB/s eta 0:00:01\r",
      "\u001b[K     |███████████████████████▍        | 1.0 MB 28.1 MB/s eta 0:00:01\r",
      "\u001b[K     |███████████████████████▊        | 1.0 MB 28.1 MB/s eta 0:00:01\r",
      "\u001b[K     |████████████████████████        | 1.0 MB 28.1 MB/s eta 0:00:01\r",
      "\u001b[K     |████████████████████████▏       | 1.0 MB 28.1 MB/s eta 0:00:01\r",
      "\u001b[K     |████████████████████████▍       | 1.1 MB 28.1 MB/s eta 0:00:01\r",
      "\u001b[K     |████████████████████████▋       | 1.1 MB 28.1 MB/s eta 0:00:01\r",
      "\u001b[K     |████████████████████████▉       | 1.1 MB 28.1 MB/s eta 0:00:01\r",
      "\u001b[K     |█████████████████████████       | 1.1 MB 28.1 MB/s eta 0:00:01\r",
      "\u001b[K     |█████████████████████████▎      | 1.1 MB 28.1 MB/s eta 0:00:01\r",
      "\u001b[K     |█████████████████████████▋      | 1.1 MB 28.1 MB/s eta 0:00:01\r",
      "\u001b[K     |█████████████████████████▉      | 1.1 MB 28.1 MB/s eta 0:00:01\r",
      "\u001b[K     |██████████████████████████      | 1.1 MB 28.1 MB/s eta 0:00:01\r",
      "\u001b[K     |██████████████████████████▎     | 1.1 MB 28.1 MB/s eta 0:00:01\r",
      "\u001b[K     |██████████████████████████▌     | 1.1 MB 28.1 MB/s eta 0:00:01\r",
      "\u001b[K     |██████████████████████████▊     | 1.2 MB 28.1 MB/s eta 0:00:01\r",
      "\u001b[K     |███████████████████████████     | 1.2 MB 28.1 MB/s eta 0:00:01\r",
      "\u001b[K     |███████████████████████████▎    | 1.2 MB 28.1 MB/s eta 0:00:01\r",
      "\u001b[K     |███████████████████████████▌    | 1.2 MB 28.1 MB/s eta 0:00:01\r",
      "\u001b[K     |███████████████████████████▊    | 1.2 MB 28.1 MB/s eta 0:00:01\r",
      "\u001b[K     |████████████████████████████    | 1.2 MB 28.1 MB/s eta 0:00:01\r",
      "\u001b[K     |████████████████████████████▏   | 1.2 MB 28.1 MB/s eta 0:00:01\r",
      "\u001b[K     |████████████████████████████▍   | 1.2 MB 28.1 MB/s eta 0:00:01\r",
      "\u001b[K     |████████████████████████████▋   | 1.2 MB 28.1 MB/s eta 0:00:01\r",
      "\u001b[K     |████████████████████████████▉   | 1.2 MB 28.1 MB/s eta 0:00:01\r",
      "\u001b[K     |█████████████████████████████▏  | 1.3 MB 28.1 MB/s eta 0:00:01\r",
      "\u001b[K     |█████████████████████████████▍  | 1.3 MB 28.1 MB/s eta 0:00:01\r",
      "\u001b[K     |█████████████████████████████▋  | 1.3 MB 28.1 MB/s eta 0:00:01\r",
      "\u001b[K     |█████████████████████████████▉  | 1.3 MB 28.1 MB/s eta 0:00:01\r",
      "\u001b[K     |██████████████████████████████  | 1.3 MB 28.1 MB/s eta 0:00:01\r",
      "\u001b[K     |██████████████████████████████▎ | 1.3 MB 28.1 MB/s eta 0:00:01\r",
      "\u001b[K     |██████████████████████████████▌ | 1.3 MB 28.1 MB/s eta 0:00:01\r",
      "\u001b[K     |██████████████████████████████▊ | 1.3 MB 28.1 MB/s eta 0:00:01\r",
      "\u001b[K     |███████████████████████████████ | 1.3 MB 28.1 MB/s eta 0:00:01\r",
      "\u001b[K     |███████████████████████████████▎| 1.4 MB 28.1 MB/s eta 0:00:01\r",
      "\u001b[K     |███████████████████████████████▌| 1.4 MB 28.1 MB/s eta 0:00:01\r",
      "\u001b[K     |███████████████████████████████▊| 1.4 MB 28.1 MB/s eta 0:00:01\r",
      "\u001b[K     |████████████████████████████████| 1.4 MB 28.1 MB/s eta 0:00:01\r",
      "\u001b[K     |████████████████████████████████| 1.4 MB 28.1 MB/s \n",
      "\u001b[?25hRequirement already satisfied: pandas>=0.19 in /usr/local/lib/python3.7/dist-packages (from pmdarima) (1.1.5)\n",
      "Collecting statsmodels!=0.12.0,>=0.11\n",
      "  Downloading statsmodels-0.13.1-cp37-cp37m-manylinux_2_17_x86_64.manylinux2014_x86_64.whl (9.8 MB)\n",
      "\u001b[K     |████████████████████████████████| 9.8 MB 40.4 MB/s \n",
      "\u001b[?25hRequirement already satisfied: urllib3 in /usr/local/lib/python3.7/dist-packages (from pmdarima) (1.24.3)\n",
      "Requirement already satisfied: joblib>=0.11 in /usr/local/lib/python3.7/dist-packages (from pmdarima) (1.1.0)\n",
      "Requirement already satisfied: setuptools!=50.0.0,>=38.6.0 in /usr/local/lib/python3.7/dist-packages (from pmdarima) (57.4.0)\n",
      "Requirement already satisfied: scikit-learn>=0.22 in /usr/local/lib/python3.7/dist-packages (from pmdarima) (1.0.1)\n",
      "Requirement already satisfied: Cython!=0.29.18,>=0.29 in /usr/local/lib/python3.7/dist-packages (from pmdarima) (0.29.24)\n",
      "Requirement already satisfied: numpy>=1.19.3 in /usr/local/lib/python3.7/dist-packages (from pmdarima) (1.19.5)\n",
      "Requirement already satisfied: scipy>=1.3.2 in /usr/local/lib/python3.7/dist-packages (from pmdarima) (1.4.1)\n",
      "Requirement already satisfied: pytz>=2017.2 in /usr/local/lib/python3.7/dist-packages (from pandas>=0.19->pmdarima) (2018.9)\n",
      "Requirement already satisfied: python-dateutil>=2.7.3 in /usr/local/lib/python3.7/dist-packages (from pandas>=0.19->pmdarima) (2.8.2)\n",
      "Requirement already satisfied: six>=1.5 in /usr/local/lib/python3.7/dist-packages (from python-dateutil>=2.7.3->pandas>=0.19->pmdarima) (1.15.0)\n",
      "Requirement already satisfied: threadpoolctl>=2.0.0 in /usr/local/lib/python3.7/dist-packages (from scikit-learn>=0.22->pmdarima) (3.0.0)\n",
      "Requirement already satisfied: patsy>=0.5.2 in /usr/local/lib/python3.7/dist-packages (from statsmodels!=0.12.0,>=0.11->pmdarima) (0.5.2)\n",
      "Installing collected packages: statsmodels, pmdarima\n",
      "  Attempting uninstall: statsmodels\n",
      "    Found existing installation: statsmodels 0.10.2\n",
      "    Uninstalling statsmodels-0.10.2:\n",
      "      Successfully uninstalled statsmodels-0.10.2\n",
      "Successfully installed pmdarima-1.8.4 statsmodels-0.13.1\n"
     ]
    }
   ],
   "source": [
    "%matplotlib inline\n",
    "\n",
    "import sys\n",
    "import scipy\n",
    "import scipy.stats as ss\n",
    "import numpy as np\n",
    "import matplotlib\n",
    "import matplotlib.pyplot as plt\n",
    "import pandas as pd\n",
    "import random\n",
    "%pip install pmdarima"
   ]
  },
  {
   "cell_type": "code",
   "execution_count": null,
   "metadata": {
    "colab": {
     "base_uri": "https://localhost:8080/",
     "height": 73,
     "resources": {
      "http://localhost:8080/nbextensions/google.colab/files.js": {
       "data": "Ly8gQ29weXJpZ2h0IDIwMTcgR29vZ2xlIExMQwovLwovLyBMaWNlbnNlZCB1bmRlciB0aGUgQXBhY2hlIExpY2Vuc2UsIFZlcnNpb24gMi4wICh0aGUgIkxpY2Vuc2UiKTsKLy8geW91IG1heSBub3QgdXNlIHRoaXMgZmlsZSBleGNlcHQgaW4gY29tcGxpYW5jZSB3aXRoIHRoZSBMaWNlbnNlLgovLyBZb3UgbWF5IG9idGFpbiBhIGNvcHkgb2YgdGhlIExpY2Vuc2UgYXQKLy8KLy8gICAgICBodHRwOi8vd3d3LmFwYWNoZS5vcmcvbGljZW5zZXMvTElDRU5TRS0yLjAKLy8KLy8gVW5sZXNzIHJlcXVpcmVkIGJ5IGFwcGxpY2FibGUgbGF3IG9yIGFncmVlZCB0byBpbiB3cml0aW5nLCBzb2Z0d2FyZQovLyBkaXN0cmlidXRlZCB1bmRlciB0aGUgTGljZW5zZSBpcyBkaXN0cmlidXRlZCBvbiBhbiAiQVMgSVMiIEJBU0lTLAovLyBXSVRIT1VUIFdBUlJBTlRJRVMgT1IgQ09ORElUSU9OUyBPRiBBTlkgS0lORCwgZWl0aGVyIGV4cHJlc3Mgb3IgaW1wbGllZC4KLy8gU2VlIHRoZSBMaWNlbnNlIGZvciB0aGUgc3BlY2lmaWMgbGFuZ3VhZ2UgZ292ZXJuaW5nIHBlcm1pc3Npb25zIGFuZAovLyBsaW1pdGF0aW9ucyB1bmRlciB0aGUgTGljZW5zZS4KCi8qKgogKiBAZmlsZW92ZXJ2aWV3IEhlbHBlcnMgZm9yIGdvb2dsZS5jb2xhYiBQeXRob24gbW9kdWxlLgogKi8KKGZ1bmN0aW9uKHNjb3BlKSB7CmZ1bmN0aW9uIHNwYW4odGV4dCwgc3R5bGVBdHRyaWJ1dGVzID0ge30pIHsKICBjb25zdCBlbGVtZW50ID0gZG9jdW1lbnQuY3JlYXRlRWxlbWVudCgnc3BhbicpOwogIGVsZW1lbnQudGV4dENvbnRlbnQgPSB0ZXh0OwogIGZvciAoY29uc3Qga2V5IG9mIE9iamVjdC5rZXlzKHN0eWxlQXR0cmlidXRlcykpIHsKICAgIGVsZW1lbnQuc3R5bGVba2V5XSA9IHN0eWxlQXR0cmlidXRlc1trZXldOwogIH0KICByZXR1cm4gZWxlbWVudDsKfQoKLy8gTWF4IG51bWJlciBvZiBieXRlcyB3aGljaCB3aWxsIGJlIHVwbG9hZGVkIGF0IGEgdGltZS4KY29uc3QgTUFYX1BBWUxPQURfU0laRSA9IDEwMCAqIDEwMjQ7CgpmdW5jdGlvbiBfdXBsb2FkRmlsZXMoaW5wdXRJZCwgb3V0cHV0SWQpIHsKICBjb25zdCBzdGVwcyA9IHVwbG9hZEZpbGVzU3RlcChpbnB1dElkLCBvdXRwdXRJZCk7CiAgY29uc3Qgb3V0cHV0RWxlbWVudCA9IGRvY3VtZW50LmdldEVsZW1lbnRCeUlkKG91dHB1dElkKTsKICAvLyBDYWNoZSBzdGVwcyBvbiB0aGUgb3V0cHV0RWxlbWVudCB0byBtYWtlIGl0IGF2YWlsYWJsZSBmb3IgdGhlIG5leHQgY2FsbAogIC8vIHRvIHVwbG9hZEZpbGVzQ29udGludWUgZnJvbSBQeXRob24uCiAgb3V0cHV0RWxlbWVudC5zdGVwcyA9IHN0ZXBzOwoKICByZXR1cm4gX3VwbG9hZEZpbGVzQ29udGludWUob3V0cHV0SWQpOwp9CgovLyBUaGlzIGlzIHJvdWdobHkgYW4gYXN5bmMgZ2VuZXJhdG9yIChub3Qgc3VwcG9ydGVkIGluIHRoZSBicm93c2VyIHlldCksCi8vIHdoZXJlIHRoZXJlIGFyZSBtdWx0aXBsZSBhc3luY2hyb25vdXMgc3RlcHMgYW5kIHRoZSBQeXRob24gc2lkZSBpcyBnb2luZwovLyB0byBwb2xsIGZvciBjb21wbGV0aW9uIG9mIGVhY2ggc3RlcC4KLy8gVGhpcyB1c2VzIGEgUHJvbWlzZSB0byBibG9jayB0aGUgcHl0aG9uIHNpZGUgb24gY29tcGxldGlvbiBvZiBlYWNoIHN0ZXAsCi8vIHRoZW4gcGFzc2VzIHRoZSByZXN1bHQgb2YgdGhlIHByZXZpb3VzIHN0ZXAgYXMgdGhlIGlucHV0IHRvIHRoZSBuZXh0IHN0ZXAuCmZ1bmN0aW9uIF91cGxvYWRGaWxlc0NvbnRpbnVlKG91dHB1dElkKSB7CiAgY29uc3Qgb3V0cHV0RWxlbWVudCA9IGRvY3VtZW50LmdldEVsZW1lbnRCeUlkKG91dHB1dElkKTsKICBjb25zdCBzdGVwcyA9IG91dHB1dEVsZW1lbnQuc3RlcHM7CgogIGNvbnN0IG5leHQgPSBzdGVwcy5uZXh0KG91dHB1dEVsZW1lbnQubGFzdFByb21pc2VWYWx1ZSk7CiAgcmV0dXJuIFByb21pc2UucmVzb2x2ZShuZXh0LnZhbHVlLnByb21pc2UpLnRoZW4oKHZhbHVlKSA9PiB7CiAgICAvLyBDYWNoZSB0aGUgbGFzdCBwcm9taXNlIHZhbHVlIHRvIG1ha2UgaXQgYXZhaWxhYmxlIHRvIHRoZSBuZXh0CiAgICAvLyBzdGVwIG9mIHRoZSBnZW5lcmF0b3IuCiAgICBvdXRwdXRFbGVtZW50Lmxhc3RQcm9taXNlVmFsdWUgPSB2YWx1ZTsKICAgIHJldHVybiBuZXh0LnZhbHVlLnJlc3BvbnNlOwogIH0pOwp9CgovKioKICogR2VuZXJhdG9yIGZ1bmN0aW9uIHdoaWNoIGlzIGNhbGxlZCBiZXR3ZWVuIGVhY2ggYXN5bmMgc3RlcCBvZiB0aGUgdXBsb2FkCiAqIHByb2Nlc3MuCiAqIEBwYXJhbSB7c3RyaW5nfSBpbnB1dElkIEVsZW1lbnQgSUQgb2YgdGhlIGlucHV0IGZpbGUgcGlja2VyIGVsZW1lbnQuCiAqIEBwYXJhbSB7c3RyaW5nfSBvdXRwdXRJZCBFbGVtZW50IElEIG9mIHRoZSBvdXRwdXQgZGlzcGxheS4KICogQHJldHVybiB7IUl0ZXJhYmxlPCFPYmplY3Q+fSBJdGVyYWJsZSBvZiBuZXh0IHN0ZXBzLgogKi8KZnVuY3Rpb24qIHVwbG9hZEZpbGVzU3RlcChpbnB1dElkLCBvdXRwdXRJZCkgewogIGNvbnN0IGlucHV0RWxlbWVudCA9IGRvY3VtZW50LmdldEVsZW1lbnRCeUlkKGlucHV0SWQpOwogIGlucHV0RWxlbWVudC5kaXNhYmxlZCA9IGZhbHNlOwoKICBjb25zdCBvdXRwdXRFbGVtZW50ID0gZG9jdW1lbnQuZ2V0RWxlbWVudEJ5SWQob3V0cHV0SWQpOwogIG91dHB1dEVsZW1lbnQuaW5uZXJIVE1MID0gJyc7CgogIGNvbnN0IHBpY2tlZFByb21pc2UgPSBuZXcgUHJvbWlzZSgocmVzb2x2ZSkgPT4gewogICAgaW5wdXRFbGVtZW50LmFkZEV2ZW50TGlzdGVuZXIoJ2NoYW5nZScsIChlKSA9PiB7CiAgICAgIHJlc29sdmUoZS50YXJnZXQuZmlsZXMpOwogICAgfSk7CiAgfSk7CgogIGNvbnN0IGNhbmNlbCA9IGRvY3VtZW50LmNyZWF0ZUVsZW1lbnQoJ2J1dHRvbicpOwogIGlucHV0RWxlbWVudC5wYXJlbnRFbGVtZW50LmFwcGVuZENoaWxkKGNhbmNlbCk7CiAgY2FuY2VsLnRleHRDb250ZW50ID0gJ0NhbmNlbCB1cGxvYWQnOwogIGNvbnN0IGNhbmNlbFByb21pc2UgPSBuZXcgUHJvbWlzZSgocmVzb2x2ZSkgPT4gewogICAgY2FuY2VsLm9uY2xpY2sgPSAoKSA9PiB7CiAgICAgIHJlc29sdmUobnVsbCk7CiAgICB9OwogIH0pOwoKICAvLyBXYWl0IGZvciB0aGUgdXNlciB0byBwaWNrIHRoZSBmaWxlcy4KICBjb25zdCBmaWxlcyA9IHlpZWxkIHsKICAgIHByb21pc2U6IFByb21pc2UucmFjZShbcGlja2VkUHJvbWlzZSwgY2FuY2VsUHJvbWlzZV0pLAogICAgcmVzcG9uc2U6IHsKICAgICAgYWN0aW9uOiAnc3RhcnRpbmcnLAogICAgfQogIH07CgogIGNhbmNlbC5yZW1vdmUoKTsKCiAgLy8gRGlzYWJsZSB0aGUgaW5wdXQgZWxlbWVudCBzaW5jZSBmdXJ0aGVyIHBpY2tzIGFyZSBub3QgYWxsb3dlZC4KICBpbnB1dEVsZW1lbnQuZGlzYWJsZWQgPSB0cnVlOwoKICBpZiAoIWZpbGVzKSB7CiAgICByZXR1cm4gewogICAgICByZXNwb25zZTogewogICAgICAgIGFjdGlvbjogJ2NvbXBsZXRlJywKICAgICAgfQogICAgfTsKICB9CgogIGZvciAoY29uc3QgZmlsZSBvZiBmaWxlcykgewogICAgY29uc3QgbGkgPSBkb2N1bWVudC5jcmVhdGVFbGVtZW50KCdsaScpOwogICAgbGkuYXBwZW5kKHNwYW4oZmlsZS5uYW1lLCB7Zm9udFdlaWdodDogJ2JvbGQnfSkpOwogICAgbGkuYXBwZW5kKHNwYW4oCiAgICAgICAgYCgke2ZpbGUudHlwZSB8fCAnbi9hJ30pIC0gJHtmaWxlLnNpemV9IGJ5dGVzLCBgICsKICAgICAgICBgbGFzdCBtb2RpZmllZDogJHsKICAgICAgICAgICAgZmlsZS5sYXN0TW9kaWZpZWREYXRlID8gZmlsZS5sYXN0TW9kaWZpZWREYXRlLnRvTG9jYWxlRGF0ZVN0cmluZygpIDoKICAgICAgICAgICAgICAgICAgICAgICAgICAgICAgICAgICAgJ24vYSd9IC0gYCkpOwogICAgY29uc3QgcGVyY2VudCA9IHNwYW4oJzAlIGRvbmUnKTsKICAgIGxpLmFwcGVuZENoaWxkKHBlcmNlbnQpOwoKICAgIG91dHB1dEVsZW1lbnQuYXBwZW5kQ2hpbGQobGkpOwoKICAgIGNvbnN0IGZpbGVEYXRhUHJvbWlzZSA9IG5ldyBQcm9taXNlKChyZXNvbHZlKSA9PiB7CiAgICAgIGNvbnN0IHJlYWRlciA9IG5ldyBGaWxlUmVhZGVyKCk7CiAgICAgIHJlYWRlci5vbmxvYWQgPSAoZSkgPT4gewogICAgICAgIHJlc29sdmUoZS50YXJnZXQucmVzdWx0KTsKICAgICAgfTsKICAgICAgcmVhZGVyLnJlYWRBc0FycmF5QnVmZmVyKGZpbGUpOwogICAgfSk7CiAgICAvLyBXYWl0IGZvciB0aGUgZGF0YSB0byBiZSByZWFkeS4KICAgIGxldCBmaWxlRGF0YSA9IHlpZWxkIHsKICAgICAgcHJvbWlzZTogZmlsZURhdGFQcm9taXNlLAogICAgICByZXNwb25zZTogewogICAgICAgIGFjdGlvbjogJ2NvbnRpbnVlJywKICAgICAgfQogICAgfTsKCiAgICAvLyBVc2UgYSBjaHVua2VkIHNlbmRpbmcgdG8gYXZvaWQgbWVzc2FnZSBzaXplIGxpbWl0cy4gU2VlIGIvNjIxMTU2NjAuCiAgICBsZXQgcG9zaXRpb24gPSAwOwogICAgZG8gewogICAgICBjb25zdCBsZW5ndGggPSBNYXRoLm1pbihmaWxlRGF0YS5ieXRlTGVuZ3RoIC0gcG9zaXRpb24sIE1BWF9QQVlMT0FEX1NJWkUpOwogICAgICBjb25zdCBjaHVuayA9IG5ldyBVaW50OEFycmF5KGZpbGVEYXRhLCBwb3NpdGlvbiwgbGVuZ3RoKTsKICAgICAgcG9zaXRpb24gKz0gbGVuZ3RoOwoKICAgICAgY29uc3QgYmFzZTY0ID0gYnRvYShTdHJpbmcuZnJvbUNoYXJDb2RlLmFwcGx5KG51bGwsIGNodW5rKSk7CiAgICAgIHlpZWxkIHsKICAgICAgICByZXNwb25zZTogewogICAgICAgICAgYWN0aW9uOiAnYXBwZW5kJywKICAgICAgICAgIGZpbGU6IGZpbGUubmFtZSwKICAgICAgICAgIGRhdGE6IGJhc2U2NCwKICAgICAgICB9LAogICAgICB9OwoKICAgICAgbGV0IHBlcmNlbnREb25lID0gZmlsZURhdGEuYnl0ZUxlbmd0aCA9PT0gMCA/CiAgICAgICAgICAxMDAgOgogICAgICAgICAgTWF0aC5yb3VuZCgocG9zaXRpb24gLyBmaWxlRGF0YS5ieXRlTGVuZ3RoKSAqIDEwMCk7CiAgICAgIHBlcmNlbnQudGV4dENvbnRlbnQgPSBgJHtwZXJjZW50RG9uZX0lIGRvbmVgOwoKICAgIH0gd2hpbGUgKHBvc2l0aW9uIDwgZmlsZURhdGEuYnl0ZUxlbmd0aCk7CiAgfQoKICAvLyBBbGwgZG9uZS4KICB5aWVsZCB7CiAgICByZXNwb25zZTogewogICAgICBhY3Rpb246ICdjb21wbGV0ZScsCiAgICB9CiAgfTsKfQoKc2NvcGUuZ29vZ2xlID0gc2NvcGUuZ29vZ2xlIHx8IHt9OwpzY29wZS5nb29nbGUuY29sYWIgPSBzY29wZS5nb29nbGUuY29sYWIgfHwge307CnNjb3BlLmdvb2dsZS5jb2xhYi5fZmlsZXMgPSB7CiAgX3VwbG9hZEZpbGVzLAogIF91cGxvYWRGaWxlc0NvbnRpbnVlLAp9Owp9KShzZWxmKTsK",
       "headers": [
        [
         "content-type",
         "application/javascript"
        ]
       ],
       "ok": true,
       "status": 200,
       "status_text": ""
      }
     }
    },
    "id": "M8iPdvh0qIED",
    "outputId": "2447d768-ba71-44bb-af00-99e083ec3cf8"
   },
   "outputs": [
    {
     "data": {
      "text/html": [
       "\n",
       "     <input type=\"file\" id=\"files-a4c812cb-999f-4c15-8ef4-6453d5210b5d\" name=\"files[]\" multiple disabled\n",
       "        style=\"border:none\" />\n",
       "     <output id=\"result-a4c812cb-999f-4c15-8ef4-6453d5210b5d\">\n",
       "      Upload widget is only available when the cell has been executed in the\n",
       "      current browser session. Please rerun this cell to enable.\n",
       "      </output>\n",
       "      <script src=\"/nbextensions/google.colab/files.js\"></script> "
      ],
      "text/plain": [
       "<IPython.core.display.HTML object>"
      ]
     },
     "metadata": {},
     "output_type": "display_data"
    },
    {
     "name": "stdout",
     "output_type": "stream",
     "text": [
      "Saving data.csv to data.csv\n"
     ]
    }
   ],
   "source": [
    "from google.colab import files\n",
    "  \n",
    "test = files.upload()"
   ]
  },
  {
   "cell_type": "code",
   "execution_count": null,
   "metadata": {
    "colab": {
     "base_uri": "https://localhost:8080/"
    },
    "id": "-x4uQ9ZbqyGu",
    "outputId": "8bbefc10-d69a-49b5-d4f6-c9babd42edc4"
   },
   "outputs": [
    {
     "name": "stdout",
     "output_type": "stream",
     "text": [
      "            MinTemp  MaxTemp  AvgTemp\n",
      "DATE                                 \n",
      "2014-01-01     33.0     46.0     40.0\n",
      "2014-01-02     35.0     50.0     43.0\n",
      "2014-01-03     36.0     45.0     41.0\n",
      "2014-01-04     32.0     41.0     37.0\n",
      "2014-01-05     24.0     38.0     31.0\n",
      "(1825, 3)\n"
     ]
    }
   ],
   "source": [
    "import pandas as pd\n",
    "import io\n",
    "df = pd.read_csv(io.BytesIO(test['data.csv']),index_col='DATE',parse_dates=True)\n",
    "print(df.head())\n",
    "print(df.shape)"
   ]
  },
  {
   "cell_type": "code",
   "execution_count": null,
   "metadata": {
    "colab": {
     "base_uri": "https://localhost:8080/",
     "height": 334
    },
    "id": "3AZQ_vO1sF9S",
    "outputId": "ba09c1ac-8719-4793-9e3d-9cfecd2a7667"
   },
   "outputs": [
    {
     "data": {
      "image/png": "[encoded data removed]",
      "text/plain": [
       "<Figure size 864x360 with 1 Axes>"
      ]
     },
     "metadata": {
      "needs_background": "light"
     },
     "output_type": "display_data"
    }
   ],
   "source": [
    "df['AvgTemp'].plot(figsize=(12,5))\n",
    "df = df.fillna(method='ffill')"
   ]
  },
  {
   "cell_type": "code",
   "execution_count": null,
   "metadata": {
    "id": "6Z7OVyU_yq_X"
   },
   "outputs": [],
   "source": [
    "# Data looks almost stationary because the mean is almost constant"
   ]
  },
  {
   "cell_type": "code",
   "execution_count": null,
   "metadata": {
    "id": "GqZpAfL7sHOQ"
   },
   "outputs": [],
   "source": [
    "from statsmodels.tsa.stattools import adfuller\n",
    "\n",
    "def adf_test(dataset):\n",
    "  dftest = adfuller(dataset, autolag = 'AIC')\n",
    "  print(\"1. ADF : \",dftest[0])\n",
    "  print(\"2. P-Value : \", dftest[1])\n",
    "  print(\"3. Num Of Lags : \", dftest[2])\n",
    "  print(\"4. Num Of Observations Used For ADF Regression and Critical Values Calculation :\", dftest[3])\n",
    "  print(\"5. Critical Values :\")\n",
    "  for key, val in dftest[4].items():\n",
    "      print(\"\\t\",key, \": \", val)"
   ]
  },
  {
   "cell_type": "code",
   "execution_count": null,
   "metadata": {
    "colab": {
     "base_uri": "https://localhost:8080/"
    },
    "id": "N9RtZcADsLc6",
    "outputId": "e6c80e7e-50fa-47b3-a7c2-041a915785fe"
   },
   "outputs": [
    {
     "name": "stdout",
     "output_type": "stream",
     "text": [
      "1. ADF :  -6.601274820146742\n",
      "2. P-Value :  6.726253387024665e-09\n",
      "3. Num Of Lags :  12\n",
      "4. Num Of Observations Used For ADF Regression and Critical Values Calculation : 1812\n",
      "5. Critical Values :\n",
      "\t 1% :  -3.4339640110318004\n",
      "\t 5% :  -2.8631363845692475\n",
      "\t 10% :  -2.567619862152732\n"
     ]
    }
   ],
   "source": [
    "adf_test(df['AvgTemp'])"
   ]
  },
  {
   "cell_type": "code",
   "execution_count": null,
   "metadata": {
    "id": "PgmOGQ8WzIJl"
   },
   "outputs": [],
   "source": [
    "# Lesser the ADF value, better the data. So -6.6 is an indication of better data\n",
    "# Lags ae basically how many previous values are used to get the current value"
   ]
  },
  {
   "cell_type": "code",
   "execution_count": null,
   "metadata": {
    "id": "2ksq1ddVtp1a"
   },
   "outputs": [],
   "source": [
    "from pmdarima import auto_arima\n",
    "# Ignore harmless warnings\n",
    "import warnings\n",
    "warnings.filterwarnings(\"ignore\")"
   ]
  },
  {
   "cell_type": "code",
   "execution_count": null,
   "metadata": {
    "id": "E0cHOTh90MCD"
   },
   "outputs": [],
   "source": [
    "# Applying autoARIMA to enhance the data (make the data stationary)"
   ]
  },
  {
   "cell_type": "code",
   "execution_count": null,
   "metadata": {
    "colab": {
     "base_uri": "https://localhost:8080/",
     "height": 537
    },
    "id": "nLkh2efwtvFX",
    "outputId": "0fd6d3d9-fc8d-4c95-be23-2eb5cda95e6d"
   },
   "outputs": [
    {
     "data": {
      "text/html": [
       "<table class=\"simpletable\">\n",
       "<caption>SARIMAX Results</caption>\n",
       "<tr>\n",
       "  <th>Dep. Variable:</th>           <td>y</td>        <th>  No. Observations:  </th>   <td>1825</td>   \n",
       "</tr>\n",
       "<tr>\n",
       "  <th>Model:</th>           <td>SARIMAX(1, 0, 5)</td> <th>  Log Likelihood     </th> <td>-4146.995</td>\n",
       "</tr>\n",
       "<tr>\n",
       "  <th>Date:</th>            <td>Thu, 16 Dec 2021</td> <th>  AIC                </th> <td>8309.990</td> \n",
       "</tr>\n",
       "<tr>\n",
       "  <th>Time:</th>                <td>05:55:33</td>     <th>  BIC                </th> <td>8354.065</td> \n",
       "</tr>\n",
       "<tr>\n",
       "  <th>Sample:</th>                  <td>0</td>        <th>  HQIC               </th> <td>8326.248</td> \n",
       "</tr>\n",
       "<tr>\n",
       "  <th></th>                      <td> - 1825</td>     <th>                     </th>     <td> </td>    \n",
       "</tr>\n",
       "<tr>\n",
       "  <th>Covariance Type:</th>        <td>opg</td>       <th>                     </th>     <td> </td>    \n",
       "</tr>\n",
       "</table>\n",
       "<table class=\"simpletable\">\n",
       "<tr>\n",
       "      <td></td>         <th>coef</th>     <th>std err</th>      <th>z</th>      <th>P>|z|</th>  <th>[0.025</th>    <th>0.975]</th>  \n",
       "</tr>\n",
       "<tr>\n",
       "  <th>intercept</th> <td>    1.3161</td> <td>    0.386</td> <td>    3.407</td> <td> 0.001</td> <td>    0.559</td> <td>    2.073</td>\n",
       "</tr>\n",
       "<tr>\n",
       "  <th>ar.L1</th>     <td>    0.9717</td> <td>    0.008</td> <td>  116.852</td> <td> 0.000</td> <td>    0.955</td> <td>    0.988</td>\n",
       "</tr>\n",
       "<tr>\n",
       "  <th>ma.L1</th>     <td>   -0.1203</td> <td>    0.024</td> <td>   -5.047</td> <td> 0.000</td> <td>   -0.167</td> <td>   -0.074</td>\n",
       "</tr>\n",
       "<tr>\n",
       "  <th>ma.L2</th>     <td>   -0.2204</td> <td>    0.024</td> <td>   -9.112</td> <td> 0.000</td> <td>   -0.268</td> <td>   -0.173</td>\n",
       "</tr>\n",
       "<tr>\n",
       "  <th>ma.L3</th>     <td>   -0.1999</td> <td>    0.024</td> <td>   -8.338</td> <td> 0.000</td> <td>   -0.247</td> <td>   -0.153</td>\n",
       "</tr>\n",
       "<tr>\n",
       "  <th>ma.L4</th>     <td>   -0.1336</td> <td>    0.023</td> <td>   -5.874</td> <td> 0.000</td> <td>   -0.178</td> <td>   -0.089</td>\n",
       "</tr>\n",
       "<tr>\n",
       "  <th>ma.L5</th>     <td>   -0.0471</td> <td>    0.024</td> <td>   -1.935</td> <td> 0.053</td> <td>   -0.095</td> <td>    0.001</td>\n",
       "</tr>\n",
       "<tr>\n",
       "  <th>sigma2</th>    <td>    5.4802</td> <td>    0.171</td> <td>   32.058</td> <td> 0.000</td> <td>    5.145</td> <td>    5.815</td>\n",
       "</tr>\n",
       "</table>\n",
       "<table class=\"simpletable\">\n",
       "<tr>\n",
       "  <th>Ljung-Box (L1) (Q):</th>     <td>0.01</td> <th>  Jarque-Bera (JB):  </th> <td>21.46</td>\n",
       "</tr>\n",
       "<tr>\n",
       "  <th>Prob(Q):</th>                <td>0.93</td> <th>  Prob(JB):          </th> <td>0.00</td> \n",
       "</tr>\n",
       "<tr>\n",
       "  <th>Heteroskedasticity (H):</th> <td>0.81</td> <th>  Skew:              </th> <td>-0.17</td>\n",
       "</tr>\n",
       "<tr>\n",
       "  <th>Prob(H) (two-sided):</th>    <td>0.01</td> <th>  Kurtosis:          </th> <td>3.40</td> \n",
       "</tr>\n",
       "</table><br/><br/>Warnings:<br/>[1] Covariance matrix calculated using the outer product of gradients (complex-step)."
      ],
      "text/plain": [
       "<class 'statsmodels.iolib.summary.Summary'>\n",
       "\"\"\"\n",
       "                               SARIMAX Results                                \n",
       "==============================================================================\n",
       "Dep. Variable:                      y   No. Observations:                 1825\n",
       "Model:               SARIMAX(1, 0, 5)   Log Likelihood               -4146.995\n",
       "Date:                Thu, 16 Dec 2021   AIC                           8309.990\n",
       "Time:                        05:55:33   BIC                           8354.065\n",
       "Sample:                             0   HQIC                          8326.248\n",
       "                               - 1825                                         \n",
       "Covariance Type:                  opg                                         \n",
       "==============================================================================\n",
       "                 coef    std err          z      P>|z|      [0.025      0.975]\n",
       "------------------------------------------------------------------------------\n",
       "intercept      1.3161      0.386      3.407      0.001       0.559       2.073\n",
       "ar.L1          0.9717      0.008    116.852      0.000       0.955       0.988\n",
       "ma.L1         -0.1203      0.024     -5.047      0.000      -0.167      -0.074\n",
       "ma.L2         -0.2204      0.024     -9.112      0.000      -0.268      -0.173\n",
       "ma.L3         -0.1999      0.024     -8.338      0.000      -0.247      -0.153\n",
       "ma.L4         -0.1336      0.023     -5.874      0.000      -0.178      -0.089\n",
       "ma.L5         -0.0471      0.024     -1.935      0.053      -0.095       0.001\n",
       "sigma2         5.4802      0.171     32.058      0.000       5.145       5.815\n",
       "===================================================================================\n",
       "Ljung-Box (L1) (Q):                   0.01   Jarque-Bera (JB):                21.46\n",
       "Prob(Q):                              0.93   Prob(JB):                         0.00\n",
       "Heteroskedasticity (H):               0.81   Skew:                            -0.17\n",
       "Prob(H) (two-sided):                  0.01   Kurtosis:                         3.40\n",
       "===================================================================================\n",
       "\n",
       "Warnings:\n",
       "[1] Covariance matrix calculated using the outer product of gradients (complex-step).\n",
       "\"\"\""
      ]
     },
     "execution_count": 10,
     "metadata": {},
     "output_type": "execute_result"
    }
   ],
   "source": [
    "stepwise_fit = auto_arima(df['AvgTemp'],suppress_warnings=True)           \n",
    "stepwise_fit.summary()"
   ]
  },
  {
   "cell_type": "code",
   "execution_count": null,
   "metadata": {
    "id": "8yuMOStIz71m"
   },
   "outputs": [],
   "source": [
    "# ar.L1 means that auto regression level one was applied\n",
    "# ma.L5 means that Moving average was applied, but 5 levels were needed to make the data stationary "
   ]
  },
  {
   "cell_type": "code",
   "execution_count": null,
   "metadata": {
    "id": "oxIZHuEktyV_"
   },
   "outputs": [],
   "source": [
    "from statsmodels.tsa.arima_model import ARIMA"
   ]
  },
  {
   "cell_type": "code",
   "execution_count": null,
   "metadata": {
    "colab": {
     "base_uri": "https://localhost:8080/"
    },
    "id": "7K5o-ODCuI__",
    "outputId": "3fcf5df2-eac1-406a-a23c-7ce7e9cfe897"
   },
   "outputs": [
    {
     "name": "stdout",
     "output_type": "stream",
     "text": [
      "(1825, 3)\n",
      "(1795, 3) (30, 3)\n",
      "MinTemp    36.0\n",
      "MaxTemp    52.0\n",
      "AvgTemp    44.0\n",
      "Name: 2018-12-01 00:00:00, dtype: float64 MinTemp    39.0\n",
      "MaxTemp    52.0\n",
      "AvgTemp    46.0\n",
      "Name: 2018-12-30 00:00:00, dtype: float64\n"
     ]
    }
   ],
   "source": [
    "print(df.shape)\n",
    "train = df.iloc[:-30] # 0->1795 = Training data\n",
    "test = df.iloc[-30:] # 1796->1825 = Test data\n",
    "print(train.shape,test.shape)\n",
    "print(test.iloc[0],test.iloc[-1])"
   ]
  },
  {
   "cell_type": "code",
   "execution_count": null,
   "metadata": {
    "colab": {
     "base_uri": "https://localhost:8080/",
     "height": 537
    },
    "id": "_Y9Ao1nsuLjo",
    "outputId": "b2d35c04-299e-4992-fad3-fd20918886b0"
   },
   "outputs": [
    {
     "data": {
      "text/html": [
       "<table class=\"simpletable\">\n",
       "<caption>SARIMAX Results</caption>\n",
       "<tr>\n",
       "  <th>Dep. Variable:</th>        <td>AvgTemp</td>     <th>  No. Observations:  </th>   <td>1795</td>   \n",
       "</tr>\n",
       "<tr>\n",
       "  <th>Model:</th>            <td>ARIMA(1, 0, 5)</td>  <th>  Log Likelihood     </th> <td>-4077.524</td>\n",
       "</tr>\n",
       "<tr>\n",
       "  <th>Date:</th>            <td>Thu, 16 Dec 2021</td> <th>  AIC                </th> <td>8171.048</td> \n",
       "</tr>\n",
       "<tr>\n",
       "  <th>Time:</th>                <td>06:00:18</td>     <th>  BIC                </th> <td>8214.990</td> \n",
       "</tr>\n",
       "<tr>\n",
       "  <th>Sample:</th>             <td>01-01-2014</td>    <th>  HQIC               </th> <td>8187.271</td> \n",
       "</tr>\n",
       "<tr>\n",
       "  <th></th>                   <td>- 11-30-2018</td>   <th>                     </th>     <td> </td>    \n",
       "</tr>\n",
       "<tr>\n",
       "  <th>Covariance Type:</th>        <td>opg</td>       <th>                     </th>     <td> </td>    \n",
       "</tr>\n",
       "</table>\n",
       "<table class=\"simpletable\">\n",
       "<tr>\n",
       "     <td></td>       <th>coef</th>     <th>std err</th>      <th>z</th>      <th>P>|z|</th>  <th>[0.025</th>    <th>0.975]</th>  \n",
       "</tr>\n",
       "<tr>\n",
       "  <th>const</th>  <td>   46.5855</td> <td>    0.756</td> <td>   61.590</td> <td> 0.000</td> <td>   45.103</td> <td>   48.068</td>\n",
       "</tr>\n",
       "<tr>\n",
       "  <th>ar.L1</th>  <td>    0.9856</td> <td>    0.005</td> <td>  188.257</td> <td> 0.000</td> <td>    0.975</td> <td>    0.996</td>\n",
       "</tr>\n",
       "<tr>\n",
       "  <th>ma.L1</th>  <td>   -0.1400</td> <td>    0.023</td> <td>   -6.077</td> <td> 0.000</td> <td>   -0.185</td> <td>   -0.095</td>\n",
       "</tr>\n",
       "<tr>\n",
       "  <th>ma.L2</th>  <td>   -0.2278</td> <td>    0.023</td> <td>   -9.700</td> <td> 0.000</td> <td>   -0.274</td> <td>   -0.182</td>\n",
       "</tr>\n",
       "<tr>\n",
       "  <th>ma.L3</th>  <td>   -0.2147</td> <td>    0.023</td> <td>   -9.177</td> <td> 0.000</td> <td>   -0.261</td> <td>   -0.169</td>\n",
       "</tr>\n",
       "<tr>\n",
       "  <th>ma.L4</th>  <td>   -0.1481</td> <td>    0.023</td> <td>   -6.514</td> <td> 0.000</td> <td>   -0.193</td> <td>   -0.104</td>\n",
       "</tr>\n",
       "<tr>\n",
       "  <th>ma.L5</th>  <td>   -0.0614</td> <td>    0.024</td> <td>   -2.522</td> <td> 0.012</td> <td>   -0.109</td> <td>   -0.014</td>\n",
       "</tr>\n",
       "<tr>\n",
       "  <th>sigma2</th> <td>    5.4986</td> <td>    0.173</td> <td>   31.700</td> <td> 0.000</td> <td>    5.159</td> <td>    5.839</td>\n",
       "</tr>\n",
       "</table>\n",
       "<table class=\"simpletable\">\n",
       "<tr>\n",
       "  <th>Ljung-Box (L1) (Q):</th>     <td>0.00</td> <th>  Jarque-Bera (JB):  </th> <td>15.25</td>\n",
       "</tr>\n",
       "<tr>\n",
       "  <th>Prob(Q):</th>                <td>0.98</td> <th>  Prob(JB):          </th> <td>0.00</td> \n",
       "</tr>\n",
       "<tr>\n",
       "  <th>Heteroskedasticity (H):</th> <td>0.82</td> <th>  Skew:              </th> <td>-0.15</td>\n",
       "</tr>\n",
       "<tr>\n",
       "  <th>Prob(H) (two-sided):</th>    <td>0.01</td> <th>  Kurtosis:          </th> <td>3.34</td> \n",
       "</tr>\n",
       "</table><br/><br/>Warnings:<br/>[1] Covariance matrix calculated using the outer product of gradients (complex-step)."
      ],
      "text/plain": [
       "<class 'statsmodels.iolib.summary.Summary'>\n",
       "\"\"\"\n",
       "                               SARIMAX Results                                \n",
       "==============================================================================\n",
       "Dep. Variable:                AvgTemp   No. Observations:                 1795\n",
       "Model:                 ARIMA(1, 0, 5)   Log Likelihood               -4077.524\n",
       "Date:                Thu, 16 Dec 2021   AIC                           8171.048\n",
       "Time:                        06:00:18   BIC                           8214.990\n",
       "Sample:                    01-01-2014   HQIC                          8187.271\n",
       "                         - 11-30-2018                                         \n",
       "Covariance Type:                  opg                                         \n",
       "==============================================================================\n",
       "                 coef    std err          z      P>|z|      [0.025      0.975]\n",
       "------------------------------------------------------------------------------\n",
       "const         46.5855      0.756     61.590      0.000      45.103      48.068\n",
       "ar.L1          0.9856      0.005    188.257      0.000       0.975       0.996\n",
       "ma.L1         -0.1400      0.023     -6.077      0.000      -0.185      -0.095\n",
       "ma.L2         -0.2278      0.023     -9.700      0.000      -0.274      -0.182\n",
       "ma.L3         -0.2147      0.023     -9.177      0.000      -0.261      -0.169\n",
       "ma.L4         -0.1481      0.023     -6.514      0.000      -0.193      -0.104\n",
       "ma.L5         -0.0614      0.024     -2.522      0.012      -0.109      -0.014\n",
       "sigma2         5.4986      0.173     31.700      0.000       5.159       5.839\n",
       "===================================================================================\n",
       "Ljung-Box (L1) (Q):                   0.00   Jarque-Bera (JB):                15.25\n",
       "Prob(Q):                              0.98   Prob(JB):                         0.00\n",
       "Heteroskedasticity (H):               0.82   Skew:                            -0.15\n",
       "Prob(H) (two-sided):                  0.01   Kurtosis:                         3.34\n",
       "===================================================================================\n",
       "\n",
       "Warnings:\n",
       "[1] Covariance matrix calculated using the outer product of gradients (complex-step).\n",
       "\"\"\""
      ]
     },
     "execution_count": 14,
     "metadata": {},
     "output_type": "execute_result"
    }
   ],
   "source": [
    "from statsmodels.tsa.arima.model import ARIMA\n",
    "model = ARIMA(train['AvgTemp'],order=(1,0,5))   # order = (levels of AR, 0, levels of MA required)\n",
    "model = model.fit()\n",
    "model.summary() # training the ARIMA model"
   ]
  },
  {
   "cell_type": "code",
   "execution_count": null,
   "metadata": {
    "colab": {
     "base_uri": "https://localhost:8080/",
     "height": 331
    },
    "id": "keWjCbIkwl4P",
    "outputId": "cd81f58d-2819-49d7-c55b-c2fa93c77e93"
   },
   "outputs": [
    {
     "data": {
      "text/plain": [
       "<matplotlib.axes._subplots.AxesSubplot at 0x7fdc8b1ea8d0>"
      ]
     },
     "execution_count": 15,
     "metadata": {},
     "output_type": "execute_result"
    },
    {
     "data": {
      "image/png": "[encoded data removed]",
      "text/plain": [
       "<Figure size 432x288 with 1 Axes>"
      ]
     },
     "metadata": {
      "needs_background": "light"
     },
     "output_type": "display_data"
    }
   ],
   "source": [
    "start = len(train)\n",
    "end = len(train)+len(test)-1\n",
    "# If the predicted values dont have date values as index, you will have to uncomment the following two commented lines to plot a graph\n",
    "# index_future_dates = pd.date_range(start='2018-12-01',end='2018-12-30')\n",
    "pred = model.predict(start=start,end=end,typ='levels').rename('ARIMA predictions')\n",
    "#pred.index = index_future_dates\n",
    "pred.plot(legend=True)\n",
    "test['AvgTemp'].plot(legend=True)"
   ]
  },
  {
   "cell_type": "code",
   "execution_count": null,
   "metadata": {
    "colab": {
     "base_uri": "https://localhost:8080/",
     "height": 331
    },
    "id": "BqkDoBDewnOt",
    "outputId": "c35e2635-463c-42ce-abb8-480160898900"
   },
   "outputs": [
    {
     "data": {
      "text/plain": [
       "<matplotlib.axes._subplots.AxesSubplot at 0x7fdc8b1c8fd0>"
      ]
     },
     "execution_count": 16,
     "metadata": {},
     "output_type": "execute_result"
    },
    {
     "data": {
      "image/png": "[encoded data removed]",
      "text/plain": [
       "<Figure size 432x288 with 1 Axes>"
      ]
     },
     "metadata": {
      "needs_background": "light"
     },
     "output_type": "display_data"
    }
   ],
   "source": [
    "pred.plot(legend='ARIMA Predictions')\n",
    "test['AvgTemp'].plot(legend=True)"
   ]
  },
  {
   "cell_type": "code",
   "execution_count": null,
   "metadata": {
    "colab": {
     "base_uri": "https://localhost:8080/"
    },
    "id": "wZPXFkpMwqIF",
    "outputId": "c84b0c6a-bd90-4594-d91f-325afaa2bf9d"
   },
   "outputs": [
    {
     "data": {
      "text/plain": [
       "45.0"
      ]
     },
     "execution_count": 17,
     "metadata": {},
     "output_type": "execute_result"
    }
   ],
   "source": [
    "test['AvgTemp'].mean()"
   ]
  },
  {
   "cell_type": "code",
   "execution_count": null,
   "metadata": {
    "colab": {
     "base_uri": "https://localhost:8080/"
    },
    "id": "NbUi8yBBwt9N",
    "outputId": "87cfe35c-5e42-44fc-b2ec-c6def4fffaa5"
   },
   "outputs": [
    {
     "name": "stdout",
     "output_type": "stream",
     "text": [
      "2.9992307691204725\n"
     ]
    }
   ],
   "source": [
    "from sklearn.metrics import mean_squared_error\n",
    "from math import sqrt\n",
    "rmse = sqrt(mean_squared_error(pred,test['AvgTemp']))\n",
    "print(rmse)"
   ]
  },
  {
   "cell_type": "code",
   "execution_count": null,
   "metadata": {
    "colab": {
     "base_uri": "https://localhost:8080/",
     "height": 238
    },
    "id": "i8tc57IywvhA",
    "outputId": "4af93dc0-4f38-4465-8c81-ee53816964f0"
   },
   "outputs": [
    {
     "data": {
      "text/html": [
       "<div>\n",
       "<style scoped>\n",
       "    .dataframe tbody tr th:only-of-type {\n",
       "        vertical-align: middle;\n",
       "    }\n",
       "\n",
       "    .dataframe tbody tr th {\n",
       "        vertical-align: top;\n",
       "    }\n",
       "\n",
       "    .dataframe thead th {\n",
       "        text-align: right;\n",
       "    }\n",
       "</style>\n",
       "<table border=\"1\" class=\"dataframe\">\n",
       "  <thead>\n",
       "    <tr style=\"text-align: right;\">\n",
       "      <th></th>\n",
       "      <th>MinTemp</th>\n",
       "      <th>MaxTemp</th>\n",
       "      <th>AvgTemp</th>\n",
       "    </tr>\n",
       "    <tr>\n",
       "      <th>DATE</th>\n",
       "      <th></th>\n",
       "      <th></th>\n",
       "      <th></th>\n",
       "    </tr>\n",
       "  </thead>\n",
       "  <tbody>\n",
       "    <tr>\n",
       "      <th>2018-12-26</th>\n",
       "      <td>35.0</td>\n",
       "      <td>45.0</td>\n",
       "      <td>40.0</td>\n",
       "    </tr>\n",
       "    <tr>\n",
       "      <th>2018-12-27</th>\n",
       "      <td>33.0</td>\n",
       "      <td>44.0</td>\n",
       "      <td>39.0</td>\n",
       "    </tr>\n",
       "    <tr>\n",
       "      <th>2018-12-28</th>\n",
       "      <td>33.0</td>\n",
       "      <td>47.0</td>\n",
       "      <td>40.0</td>\n",
       "    </tr>\n",
       "    <tr>\n",
       "      <th>2018-12-29</th>\n",
       "      <td>36.0</td>\n",
       "      <td>47.0</td>\n",
       "      <td>42.0</td>\n",
       "    </tr>\n",
       "    <tr>\n",
       "      <th>2018-12-30</th>\n",
       "      <td>39.0</td>\n",
       "      <td>52.0</td>\n",
       "      <td>46.0</td>\n",
       "    </tr>\n",
       "  </tbody>\n",
       "</table>\n",
       "</div>"
      ],
      "text/plain": [
       "            MinTemp  MaxTemp  AvgTemp\n",
       "DATE                                 \n",
       "2018-12-26     35.0     45.0     40.0\n",
       "2018-12-27     33.0     44.0     39.0\n",
       "2018-12-28     33.0     47.0     40.0\n",
       "2018-12-29     36.0     47.0     42.0\n",
       "2018-12-30     39.0     52.0     46.0"
      ]
     },
     "execution_count": 19,
     "metadata": {},
     "output_type": "execute_result"
    }
   ],
   "source": [
    "model2 = ARIMA(df['AvgTemp'],order=(1,0,5)) # second model, for predicting future values\n",
    "model2 = model2.fit()\n",
    "df.tail()"
   ]
  },
  {
   "cell_type": "code",
   "execution_count": null,
   "metadata": {
    "colab": {
     "base_uri": "https://localhost:8080/"
    },
    "id": "tTGCaF0Wwzi2",
    "outputId": "53ec31a8-c97d-471c-fda2-4189a46adc01"
   },
   "outputs": [
    {
     "name": "stdout",
     "output_type": "stream",
     "text": [
      "2018-12-30    46.422722\n",
      "2018-12-31    46.118450\n",
      "2019-01-01    45.627801\n",
      "2019-01-02    45.257945\n",
      "2019-01-03    45.120144\n",
      "2019-01-04    45.139903\n",
      "2019-01-05    45.159386\n",
      "2019-01-06    45.178595\n",
      "2019-01-07    45.197535\n",
      "2019-01-08    45.216210\n",
      "2019-01-09    45.234623\n",
      "2019-01-10    45.252778\n",
      "2019-01-11    45.270678\n",
      "2019-01-12    45.288328\n",
      "2019-01-13    45.305730\n",
      "2019-01-14    45.322888\n",
      "2019-01-15    45.339805\n",
      "2019-01-16    45.356486\n",
      "2019-01-17    45.372933\n",
      "2019-01-18    45.389149\n",
      "2019-01-19    45.405138\n",
      "2019-01-20    45.420902\n",
      "2019-01-21    45.436446\n",
      "2019-01-22    45.451772\n",
      "2019-01-23    45.466883\n",
      "2019-01-24    45.481782\n",
      "2019-01-25    45.496472\n",
      "2019-01-26    45.510957\n",
      "2019-01-27    45.525238\n",
      "2019-01-28    45.539319\n",
      "2019-01-29    45.553203\n",
      "Freq: D, Name: ARIMA Predictions, dtype: float64\n"
     ]
    }
   ],
   "source": [
    "# Predicting future values:\n",
    "index_future_dates = pd.date_range(start='2018-12-30',end='2019-01-29')\n",
    "#print(index_future_dates)\n",
    "pred = model2.predict(start=len(df),end=len(df)+30,typ='levels').rename('ARIMA Predictions')\n",
    "#print(comp_pred)\n",
    "pred.index = index_future_dates\n",
    "print(pred)"
   ]
  },
  {
   "cell_type": "code",
   "execution_count": null,
   "metadata": {
    "colab": {
     "base_uri": "https://localhost:8080/",
     "height": 372
    },
    "id": "lj_SQEhDw1U_",
    "outputId": "5db7e204-3582-4893-ae5e-f6db8f249ded"
   },
   "outputs": [
    {
     "data": {
      "text/plain": [
       "<matplotlib.axes._subplots.AxesSubplot at 0x7fdc8b122a10>"
      ]
     },
     "execution_count": 21,
     "metadata": {},
     "output_type": "execute_result"
    },
    {
     "data": {
      "image/png": "[encoded data removed]",
      "text/plain": [
       "<Figure size 864x360 with 1 Axes>"
      ]
     },
     "metadata": {
      "needs_background": "light"
     },
     "output_type": "display_data"
    }
   ],
   "source": [
    "# Plotting the future value:\n",
    "pred.plot(figsize=(12,5),legend=True)"
   ]
  }
 ],
 "metadata": {
  "colab": {
   "name": "6000118004_Pattern_and_Anomaly_Detection_Session_6A.ipynb",
   "provenance": []
  },
  "kernelspec": {
   "display_name": "Python 3 (ipykernel)",
   "language": "python",
   "name": "python3"
  },
  "language_info": {
   "codemirror_mode": {
    "name": "ipython",
    "version": 3
   },
   "file_extension": ".py",
   "mimetype": "text/x-python",
   "name": "python",
   "nbconvert_exporter": "python",
   "pygments_lexer": "ipython3",
   "version": "3.9.7"
  }
 },
 "nbformat": 4,
 "nbformat_minor": 1
}
